{
 "cells": [
  {
   "cell_type": "code",
   "execution_count": null,
   "metadata": {},
   "outputs": [],
   "source": [
    "from keras.models import load_model, Model, Input\n",
    "from keras.layers import Average"
   ]
  },
  {
   "cell_type": "code",
   "execution_count": null,
   "metadata": {},
   "outputs": [],
   "source": [
    "models=[]\n",
    "\n",
    "# load the models we want to form ensemble with\n",
    "#DenseNet121\n",
    "model=load_model('C:/Users/jdu12/Desktop/humpback/saved_model/DenseNet/' + 'routine-180-0.99.hdf5')\n",
    "model.name=\"DenseNet121\"\n",
    "models.append(model)\n",
    "\n",
    "#DenseNet201\n",
    "model=load_model('C:/Users/jdu12/Desktop/humpback/saved_model/DenseNet201/' + 'routine-180-0.99.hdf5')\n",
    "model.name=\"DenseNet201\"\n",
    "models.append(model)\n",
    "\n",
    "# InceptionResnetV2\n",
    "model=load_model('C:/Users/jdu12/Desktop/humpback/saved_model/InceptionResnetV2/' + 'routine-180-0.99.hdf5')\n",
    "model.name=\"InceptionResnetV2\"\n",
    "models.append(model)\n",
    "    \n",
    "    \n",
    "def ensembleModels(models, model_input):\n",
    "    # collect outputs of models in a list\n",
    "    yModels=[model(model_input) for model in models] \n",
    "    # averaging outputs\n",
    "    yAvg=layers.average(yModels) \n",
    "    # build model from same input and avg output\n",
    "    modelEns = Model(inputs=model_input, outputs=yAvg, name='ensemble')  \n",
    "   \n",
    "    return modelEns\n",
    "\n",
    "model_input = Input(shape=models[0].input_shape[1:]) # c*h*w\n",
    "modelEns = ensembleModels(models, model_input)\n",
    "model.summary()\n",
    "\n",
    "modelEns.save('C:/Users/jdu12/Desktop/humpback/saved_model/' + 'ensemble.hdf5')"
   ]
  },
  {
   "cell_type": "code",
   "execution_count": null,
   "metadata": {},
   "outputs": [],
   "source": [
    "model = load_model('C:/Users/jdu12/Desktop/humpback/saved_model/' + 'ensemble.hdf5')"
   ]
  },
  {
   "cell_type": "code",
   "execution_count": null,
   "metadata": {},
   "outputs": [],
   "source": [
    "# testing and generating submission file\n",
    "import warnings\n",
    "from os.path import split\n",
    "\n",
    "with open(\"ensemble_submission.csv\",\"w\") as f:\n",
    "    f.write(\"Image,Id\\n\")\n",
    "    top_5 = np.argsort(pred)[:,-1:-6:-1]   # get the top 5 most likely classes\n",
    "    for i in range(top_5.shape[0]):\n",
    "        cur_tags = ''\n",
    "        cur_image_name = testPaths[i].split('/')[-1]\n",
    "        for j in range(5):\n",
    "            cur_tags = cur_tags + ' ' + class2id[top_5[i][j]]\n",
    "        f.write(\"%s,%s\\n\" %(cur_image_name, cur_tags))  "
   ]
  }
 ],
 "metadata": {
  "kernelspec": {
   "display_name": "Python 3",
   "language": "python",
   "name": "python3"
  },
  "language_info": {
   "codemirror_mode": {
    "name": "ipython",
    "version": 3
   },
   "file_extension": ".py",
   "mimetype": "text/x-python",
   "name": "python",
   "nbconvert_exporter": "python",
   "pygments_lexer": "ipython3",
   "version": "3.5.5"
  }
 },
 "nbformat": 4,
 "nbformat_minor": 2
}
