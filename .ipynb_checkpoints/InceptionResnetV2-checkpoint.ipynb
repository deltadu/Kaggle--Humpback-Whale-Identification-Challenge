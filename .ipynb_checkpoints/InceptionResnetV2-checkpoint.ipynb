{
 "cells": [
  {
   "cell_type": "code",
   "execution_count": 1,
   "metadata": {},
   "outputs": [
    {
     "name": "stderr",
     "output_type": "stream",
     "text": [
      "C:\\Users\\jdu12\\Anaconda3\\envs\\tf\\lib\\site-packages\\h5py\\__init__.py:36: FutureWarning: Conversion of the second argument of issubdtype from `float` to `np.floating` is deprecated. In future, it will be treated as `np.float64 == np.dtype(float).type`.\n",
      "  from ._conv import register_converters as _register_converters\n",
      "Using TensorFlow backend.\n"
     ]
    }
   ],
   "source": [
    "import numpy as np\n",
    "import pandas as pd\n",
    "from glob import glob\n",
    "from PIL import Image\n",
    "import matplotlib.pylab as plt\n",
    "from sklearn.model_selection import train_test_split\n",
    "from imutils import paths\n",
    "\n",
    "from subprocess import check_output\n",
    "\n",
    "import keras\n",
    "from keras.models import Sequential, load_model\n",
    "from keras.layers import Dense, Dropout, Flatten\n",
    "from keras.layers import Conv2D, MaxPooling2D\n",
    "from keras import backend as K\n",
    "from keras.preprocessing.image import ImageDataGenerator, load_img, img_to_array\n",
    "from keras.utils import to_categorical\n",
    "from keras.callbacks import ModelCheckpoint\n",
    "from keras.applications.densenet import preprocess_input\n",
    "#what"
   ]
  },
  {
   "cell_type": "code",
   "execution_count": 10,
   "metadata": {},
   "outputs": [],
   "source": [
    "# load a single image to np array\n",
    "def get_image(img_path):\n",
    "    img = load_img(img_path, target_size=(299, 299))\n",
    "    img = img_to_array(img)\n",
    "    img = img/255\n",
    "    return img"
   ]
  },
  {
   "cell_type": "code",
   "execution_count": 11,
   "metadata": {},
   "outputs": [
    {
     "name": "stdout",
     "output_type": "stream",
     "text": [
      "9082\n",
      "(9082, 299, 299, 3)\n"
     ]
    }
   ],
   "source": [
    "# loading train images\n",
    "trainPaths = list(paths.list_images('C:/Users/jdu12/Desktop/humpback/train/'))\n",
    "print(len(trainPaths))\n",
    "train = np.array([get_image(img_path) for img_path in trainPaths])\n",
    "print(train.shape)"
   ]
  },
  {
   "cell_type": "code",
   "execution_count": 12,
   "metadata": {},
   "outputs": [],
   "source": [
    "def to_one_hot(labels):\n",
    "    one_hot_labels = []\n",
    "    id2class = dict()\n",
    "    class2id = dict()      ##!!! class(integer) to id(whale class)\n",
    "    counter = 0\n",
    "    for id in labels:\n",
    "        if id not in id2class.keys():\n",
    "            one_hot_labels.append(counter)\n",
    "            id2class[id] = counter\n",
    "            class2id[counter] = id\n",
    "            counter += 1\n",
    "        else:\n",
    "            one_hot_labels.append(id2class[id])\n",
    "    one_hot_labels = to_categorical(one_hot_labels, num_classes = 4251)\n",
    "    return one_hot_labels, class2id, id2class"
   ]
  },
  {
   "cell_type": "code",
   "execution_count": 13,
   "metadata": {},
   "outputs": [],
   "source": [
    "df = pd.read_csv(\"C:/Users/jdu12/Desktop/humpback/train.csv\")\n",
    "\n",
    "labels = df['Id']\n",
    "labels, class2id, id2class = to_one_hot(labels)"
   ]
  },
  {
   "cell_type": "code",
   "execution_count": 14,
   "metadata": {},
   "outputs": [],
   "source": [
    "# split the data into train and val\n",
    "# The dataset is super unbalanced, as there are many classes that contains only 1 image\n",
    "# As a result, train/val data cannot be split before generating more data by augmentation\n"
   ]
  },
  {
   "cell_type": "code",
   "execution_count": 15,
   "metadata": {},
   "outputs": [],
   "source": [
    "# define data generator\n",
    "#use of an image generator for preprocessing and data augmentation\n",
    "image_gen = ImageDataGenerator(\n",
    "    #featurewise_center=True,\n",
    "    #featurewise_std_normalization=True,\n",
    "    #rescale=1./255,\n",
    "    rotation_range=15,\n",
    "    width_shift_range=.15,\n",
    "    height_shift_range=.15,\n",
    "    horizontal_flip=True\n",
    ")"
   ]
  },
  {
   "cell_type": "code",
   "execution_count": 16,
   "metadata": {},
   "outputs": [],
   "source": [
    "# acquire the model\n",
    "model = keras.applications.inception_resnet_v2.InceptionResNetV2(include_top=True, weights=None, classes=4251)"
   ]
  },
  {
   "cell_type": "code",
   "execution_count": null,
   "metadata": {},
   "outputs": [
    {
     "name": "stdout",
     "output_type": "stream",
     "text": [
      "Epoch 1/180\n"
     ]
    }
   ],
   "source": [
    "batch_size = 32\n",
    "epochs = 180\n",
    "\n",
    "model.compile(optimizer='adam', loss='categorical_crossentropy', metrics=['accuracy'])\n",
    "\n",
    "model_dir = 'C:/Users/jdu12/Desktop/humpback/saved_model/InceptionResnetV2/'\n",
    "routine_dir = model_dir + \"routine-{epoch:02d}-{acc:.2f}.hdf5\"\n",
    "routine_save = ModelCheckpoint(routine_dir, monitor='acc', verbose=0, save_best_only=False, save_weights_only=False, mode='auto', period=10)\n",
    "best_dir = model_dir + \"best-{epoch:02d}-{acc:.2f}.hdf5\"\n",
    "best_save = ModelCheckpoint(best_dir, monitor='acc', verbose=0, save_best_only=True, save_weights_only=False, mode='auto', period=3)\n",
    "\n",
    "\n",
    "model.fit_generator(image_gen.flow(train, labels, batch_size=batch_size),\n",
    "          steps_per_epoch=  train.shape[0]//batch_size,\n",
    "          epochs=epochs, verbose=1, callbacks=[routine_save, best_save])\n",
    "          #class_weight=class_weight_dic)\n",
    "\n"
   ]
  },
  {
   "cell_type": "code",
   "execution_count": 5,
   "metadata": {},
   "outputs": [
    {
     "name": "stdout",
     "output_type": "stream",
     "text": [
      "15610\n",
      "(15610, 299, 299, 3)\n"
     ]
    }
   ],
   "source": [
    "# loading test images\n",
    "testPaths = list(paths.list_images('C:/Users/jdu12/Desktop/humpback/test/'))\n",
    "print(len(testPaths))\n",
    "test_images = np.array([get_image(img_path) for img_path in testPaths])/255\n",
    "print(test_images.shape)"
   ]
  },
  {
   "cell_type": "code",
   "execution_count": 16,
   "metadata": {},
   "outputs": [],
   "source": [
    "# loading trained model\n",
    "model_name = 'routine-170-0.99'\n",
    "model = load_model('C:/Users/jdu12/Desktop/humpback/saved_model/InceptionResnetV2/' + model_name+ '.hdf5')"
   ]
  },
  {
   "cell_type": "code",
   "execution_count": 17,
   "metadata": {},
   "outputs": [],
   "source": [
    "# predict!\n",
    "pred = model.predict(test_images)"
   ]
  },
  {
   "cell_type": "code",
   "execution_count": 18,
   "metadata": {},
   "outputs": [],
   "source": [
    "# predict!\n",
    "pred = model.predict(test_images)\n",
    "\n",
    "# testing and generating submission file\n",
    "import warnings\n",
    "from os.path import split\n",
    "\n",
    "pred_dir = \"C:/Users/jdu12/Desktop/humpback/prediction/InceptionResnetV2/\"\n",
    "\n",
    "with open(pred_dir + model_name + \".csv\", \"w\") as f:\n",
    "    f.write(\"Image,Id\\n\")\n",
    "    top_5 = np.argsort(pred)[:,-1:-6:-1]   # get the top 5 most likely classes\n",
    "    for i in range(top_5.shape[0]):\n",
    "        cur_tags = ''\n",
    "        cur_image_name = testPaths[i].split('/')[-1]\n",
    "        for j in range(5):\n",
    "            cur_tags = cur_tags + ' ' + class2id[top_5[i][j]]\n",
    "        f.write(\"%s,%s\\n\" %(cur_image_name, cur_tags))     "
   ]
  }
 ],
 "metadata": {
  "kernelspec": {
   "display_name": "Python 3",
   "language": "python",
   "name": "python3"
  },
  "language_info": {
   "codemirror_mode": {
    "name": "ipython",
    "version": 3
   },
   "file_extension": ".py",
   "mimetype": "text/x-python",
   "name": "python",
   "nbconvert_exporter": "python",
   "pygments_lexer": "ipython3",
   "version": "3.5.5"
  }
 },
 "nbformat": 4,
 "nbformat_minor": 2
}
