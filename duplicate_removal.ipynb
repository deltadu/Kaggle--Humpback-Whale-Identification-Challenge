{
 "cells": [
  {
   "cell_type": "code",
   "execution_count": null,
   "metadata": {},
   "outputs": [],
   "source": [
    "'''\n",
    "The following script is used to remove duplicate images in the data set\n",
    "The way to detect duplicate image is to check if the hash value of two images are the same\n",
    "Note that the changes are performed in place,\n",
    "so please make sure you have a copy of the csv file and the image folder to \"undo\" the process\n",
    "'''\n",
    "# the csv file and the image folder to remove duplicate\n",
    "TARGET_CSV_FILE = r\"../noDupCSV.csv\"\n",
    "TARGET_IMG_PATH = r\"../noDup\""
   ]
  },
  {
   "cell_type": "code",
   "execution_count": null,
   "metadata": {},
   "outputs": [],
   "source": [
    "from util import duplicateRemoval"
   ]
  },
  {
   "cell_type": "code",
   "execution_count": null,
   "metadata": {},
   "outputs": [],
   "source": [
    "train_input = duplicateRemoval.getImageMetaData(TARGET_CSV_FILE, TARGET_IMG_PATH)"
   ]
  },
  {
   "cell_type": "code",
   "execution_count": null,
   "metadata": {},
   "outputs": [],
   "source": [
    "duplicateRemoval.showDuplicateData(train_input, False)"
   ]
  },
  {
   "cell_type": "code",
   "execution_count": null,
   "metadata": {},
   "outputs": [],
   "source": [
    "duplicateRemoval.removeInconsistentData(train_input, TARGET_CSV_FILE, TARGET_IMG_PATH)"
   ]
  },
  {
   "cell_type": "code",
   "execution_count": null,
   "metadata": {},
   "outputs": [],
   "source": [
    "duplicateRemoval.removeDuplicateData(train_input, TARGET_CSV_FILE, TARGET_IMG_PATH)"
   ]
  },
  {
   "cell_type": "code",
   "execution_count": 17,
   "metadata": {},
   "outputs": [
    {
     "name": "stdout",
     "output_type": "stream",
     "text": [
      "Duplicate images: ['2b792814.jpg', '56fafc52.jpg'], set of Ids: {'w_d428980', 'w_cd88a48'}\n",
      "Duplicate images: ['c3f9e536.jpg', 'cca9cd4e.jpg'], set of Ids: {'w_b7d5069', 'w_da6d50b'}\n",
      "Duplicate images: ['4f6fd0e9.jpg', '8614219d.jpg'], set of Ids: {'w_dbd2cff', 'w_5570053'}\n",
      "Duplicate images: ['55a53eac.jpg', '717554b6.jpg'], set of Ids: {'w_6af9dd7', 'w_f660d7d'}\n",
      "Duplicate images: ['3f7a3e4c.jpg', '8234edd0.jpg'], set of Ids: {'w_a67a1bc', 'w_e8a9fb8'}\n",
      "Duplicate images: ['8327be2a.jpg', '9fe928f6.jpg'], set of Ids: {'w_741861e', 'w_b6efe77'}\n",
      "Duplicate images: ['48c51cc5.jpg', '9a8496a0.jpg'], set of Ids: {'w_f843c4d', 'w_90201e3'}\n",
      "Duplicate images: ['0c35fcb4.jpg', '2d6610b9.jpg'], set of Ids: {'w_f6bca7a', 'w_7028d77'}\n",
      "Duplicate images: ['334343c9.jpg', 'f1bebb68.jpg'], set of Ids: {'w_80bae3a', 'w_cc22f68'}\n",
      "Duplicate images: ['30ca0299.jpg', '75cd5008.jpg'], set of Ids: {'w_1000f90', 'w_f5771d1'}\n",
      "Number of 'new whale' in duplicate images: 0\n",
      "Number of duplicates: 0\n",
      "Number of _duplicates: 20\n"
     ]
    }
   ],
   "source": [
    "duplicateRemoval.showDuplicateData(train_input, False)"
   ]
  }
 ],
 "metadata": {
  "kernelspec": {
   "display_name": "Python 3",
   "language": "python",
   "name": "python3"
  },
  "language_info": {
   "codemirror_mode": {
    "name": "ipython",
    "version": 3
   },
   "file_extension": ".py",
   "mimetype": "text/x-python",
   "name": "python",
   "nbconvert_exporter": "python",
   "pygments_lexer": "ipython3",
   "version": "3.6.4"
  }
 },
 "nbformat": 4,
 "nbformat_minor": 2
}
